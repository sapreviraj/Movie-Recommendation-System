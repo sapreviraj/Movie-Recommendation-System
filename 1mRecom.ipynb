{
 "cells": [
  {
   "cell_type": "markdown",
   "metadata": {},
   "source": [
    "## Recommendation Engine For Movies"
   ]
  },
  {
   "cell_type": "markdown",
   "metadata": {},
   "source": [
    "### Importing Data set"
   ]
  },
  {
   "cell_type": "code",
   "execution_count": 1,
   "metadata": {},
   "outputs": [],
   "source": [
    "#code to find spark in the system\n",
    "import findspark\n",
    "findspark.init('/home/ubuntu/spark-2.4.0-bin-hadoop2.7')"
   ]
  },
  {
   "cell_type": "code",
   "execution_count": 2,
   "metadata": {},
   "outputs": [],
   "source": [
    "from pyspark.sql import SparkSession"
   ]
  },
  {
   "cell_type": "code",
   "execution_count": 3,
   "metadata": {},
   "outputs": [],
   "source": [
    "#creating a spark session\n",
    "spark = SparkSession.builder.appName('movieRec').getOrCreate()"
   ]
  },
  {
   "cell_type": "markdown",
   "metadata": {},
   "source": [
    "We will be using Collaborative flitering method to make movie recommendations. The below image taken from wikipedia explains how collaborative approach works visually\n",
    "\n",
    "<img src=https://upload.wikimedia.org/wikipedia/commons/5/52/Collaborative_filtering.gif />"
   ]
  },
  {
   "cell_type": "code",
   "execution_count": 4,
   "metadata": {},
   "outputs": [],
   "source": [
    "from pyspark.ml.evaluation import RegressionEvaluator\n",
    "from pyspark.ml.recommendation import ALS"
   ]
  },
  {
   "cell_type": "code",
   "execution_count": 5,
   "metadata": {},
   "outputs": [],
   "source": [
    "movie_data = spark.read.csv('ratings1m.csv',inferSchema=True,header=True)"
   ]
  },
  {
   "cell_type": "markdown",
   "metadata": {},
   "source": [
    "### Brief view of the data set"
   ]
  },
  {
   "cell_type": "code",
   "execution_count": 6,
   "metadata": {},
   "outputs": [
    {
     "data": {
      "text/plain": [
       "Row(Column1=1, Column2=1193, Column3=5, Column4=978300760)"
      ]
     },
     "execution_count": 6,
     "metadata": {},
     "output_type": "execute_result"
    }
   ],
   "source": [
    "movie_data.head()"
   ]
  },
  {
   "cell_type": "code",
   "execution_count": 7,
   "metadata": {},
   "outputs": [
    {
     "name": "stdout",
     "output_type": "stream",
     "text": [
      "+-------+------------------+----------------+------------------+--------------------+\n",
      "|summary|            userId|         movieId|            rating|           timestamp|\n",
      "+-------+------------------+----------------+------------------+--------------------+\n",
      "|  count|            100836|          100836|            100836|              100836|\n",
      "|   mean|326.12756356856676|19435.2957177992| 3.501556983616962|1.2059460873684695E9|\n",
      "| stddev| 182.6184914635004|35530.9871987003|1.0425292390606342|2.1626103599513078E8|\n",
      "|    min|                 1|               1|               0.5|           828124615|\n",
      "|    max|               610|          193609|               5.0|          1537799250|\n",
      "+-------+------------------+----------------+------------------+--------------------+\n",
      "\n"
     ]
    }
   ],
   "source": [
    "#movie_data.describe().show()"
   ]
  },
  {
   "cell_type": "markdown",
   "metadata": {},
   "source": [
    "There are about 100k users "
   ]
  },
  {
   "cell_type": "markdown",
   "metadata": {},
   "source": [
    "Now we will build our model using sparks implementation of collaborative approach using ALS(Alternating least square methods).\n",
    "We initially divide the data set into training and testing set in a 70-30 fashion randomly. "
   ]
  },
  {
   "cell_type": "code",
   "execution_count": 7,
   "metadata": {},
   "outputs": [],
   "source": [
    "(train, test) = movie_data.randomSplit([0.7, 0.3])"
   ]
  },
  {
   "cell_type": "code",
   "execution_count": 9,
   "metadata": {},
   "outputs": [],
   "source": [
    "# model building\n",
    "als = ALS(maxIter=10, regParam=0.01, userCol=\"Column1\", itemCol=\"Column2\", ratingCol=\"Column3\", coldStartStrategy=\"drop\")\n",
    "model = als.fit(train)"
   ]
  },
  {
   "cell_type": "code",
   "execution_count": 10,
   "metadata": {},
   "outputs": [],
   "source": [
    "predictions = model.transform(test)"
   ]
  },
  {
   "cell_type": "code",
   "execution_count": 11,
   "metadata": {},
   "outputs": [
    {
     "name": "stdout",
     "output_type": "stream",
     "text": [
      "+-------+-------+-------+---------+----------+\n",
      "|Column1|Column2|Column3|  Column4|prediction|\n",
      "+-------+-------+-------+---------+----------+\n",
      "|    673|    148|      5|975620824|   5.03162|\n",
      "|   3184|    148|      4|968708953| 3.6129827|\n",
      "|   4784|    148|      3|970000570| 2.9289355|\n",
      "|   2383|    148|      2|974417654| 2.1427507|\n",
      "|   1242|    148|      3|974909976| 2.3306286|\n",
      "|   1069|    148|      2|974945135| 4.0862164|\n",
      "|    216|    148|      2|976870439| 1.9472154|\n",
      "|   2456|    148|      2|974178993| 3.3313732|\n",
      "|   2507|    148|      4|974082717| 2.7342834|\n",
      "|   3053|    148|      3|970170090| 3.2123873|\n",
      "|   4169|    463|      2|976589687| 2.8363774|\n",
      "|     26|    463|      3|978271588| 3.7174568|\n",
      "|   2051|    463|      1|974663178| 2.6280828|\n",
      "|   1146|    463|      2|974939610| 1.5839099|\n",
      "|   3683|    463|      1|966523740| 1.5243543|\n",
      "|   5249|    463|      3|961602410| 3.6745543|\n",
      "|    746|    463|      1|975470754| 2.1278586|\n",
      "|    721|    463|      4|975775726| 3.4372332|\n",
      "|   5795|    463|      1|958080090| 1.0722547|\n",
      "|   5511|    463|      2|959715021| 3.7551522|\n",
      "+-------+-------+-------+---------+----------+\n",
      "only showing top 20 rows\n",
      "\n"
     ]
    }
   ],
   "source": [
    "predictions.show()"
   ]
  },
  {
   "cell_type": "markdown",
   "metadata": {},
   "source": [
    "### Evaluate the model"
   ]
  },
  {
   "cell_type": "code",
   "execution_count": 13,
   "metadata": {},
   "outputs": [
    {
     "name": "stdout",
     "output_type": "stream",
     "text": [
      "Root-mean-square error = 0.9040936851898465\n"
     ]
    }
   ],
   "source": [
    "evaluator = RegressionEvaluator(metricName=\"rmse\", labelCol=\"Column3\",predictionCol=\"prediction\")\n",
    "rmse = evaluator.evaluate(predictions)\n",
    "print(\"Root-mean-square error = \" + str(rmse))"
   ]
  },
  {
   "cell_type": "markdown",
   "metadata": {},
   "source": [
    "### Making predictions"
   ]
  },
  {
   "cell_type": "code",
   "execution_count": 15,
   "metadata": {},
   "outputs": [],
   "source": [
    "#Let's say we want to give some recommendations to user 11\n",
    "single_user = test.filter(test['Column1']==11).select(['Column2','Column1'])"
   ]
  },
  {
   "cell_type": "code",
   "execution_count": 16,
   "metadata": {},
   "outputs": [
    {
     "name": "stdout",
     "output_type": "stream",
     "text": [
      "+-------+-------+\n",
      "|Column2|Column1|\n",
      "+-------+-------+\n",
      "|     50|     11|\n",
      "|    249|     11|\n",
      "|    318|     11|\n",
      "|    345|     11|\n",
      "|    454|     11|\n",
      "|    543|     11|\n",
      "|    597|     11|\n",
      "|   1244|     11|\n",
      "|   1546|     11|\n",
      "|   1563|     11|\n",
      "|   1573|     11|\n",
      "|   1732|     11|\n",
      "|   1887|     11|\n",
      "|   2109|     11|\n",
      "|   2174|     11|\n",
      "|   2306|     11|\n",
      "|   2431|     11|\n",
      "|   2507|     11|\n",
      "|   2710|     11|\n",
      "|   2746|     11|\n",
      "+-------+-------+\n",
      "only showing top 20 rows\n",
      "\n"
     ]
    }
   ],
   "source": [
    "single_user.show()"
   ]
  },
  {
   "cell_type": "code",
   "execution_count": 17,
   "metadata": {},
   "outputs": [],
   "source": [
    "recommended_movies = model.recommendForUserSubset(single_user,5)"
   ]
  },
  {
   "cell_type": "code",
   "execution_count": 18,
   "metadata": {},
   "outputs": [
    {
     "data": {
      "text/plain": [
       "Row(Column1=11, recommendations=[Row(Column2=2998, rating=8.055205345153809), Row(Column2=119, rating=7.981388568878174), Row(Column2=2963, rating=7.274289131164551), Row(Column2=1549, rating=7.258699417114258), Row(Column2=966, rating=7.174513339996338)])"
      ]
     },
     "execution_count": 18,
     "metadata": {},
     "output_type": "execute_result"
    }
   ],
   "source": [
    "recommended_movies.head()"
   ]
  },
  {
   "cell_type": "code",
   "execution_count": null,
   "metadata": {},
   "outputs": [],
   "source": []
  }
 ],
 "metadata": {
  "anaconda-cloud": {},
  "kernelspec": {
   "display_name": "Python 3",
   "language": "python",
   "name": "python3"
  },
  "language_info": {
   "codemirror_mode": {
    "name": "ipython",
    "version": 3
   },
   "file_extension": ".py",
   "mimetype": "text/x-python",
   "name": "python",
   "nbconvert_exporter": "python",
   "pygments_lexer": "ipython3",
   "version": "3.7.1"
  }
 },
 "nbformat": 4,
 "nbformat_minor": 1
}
